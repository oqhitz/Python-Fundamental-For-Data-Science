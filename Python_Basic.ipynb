{
 "cells": [
  {
   "cell_type": "markdown",
   "metadata": {
    "id": "bcSFt2nYSQhg"
   },
   "source": [
    "# Variabel"
   ]
  },
  {
   "cell_type": "code",
   "execution_count": 1,
   "metadata": {
    "colab": {
     "base_uri": "https://localhost:8080/"
    },
    "id": "vQpfHRicRdAY",
    "outputId": "eb3bfba3-9cc4-4a81-f84f-be6cd7c59a75"
   },
   "outputs": [
    {
     "name": "stdout",
     "output_type": "stream",
     "text": [
      "Shift\n"
     ]
    }
   ],
   "source": [
    "nama = \"Shift\"\r\n",
    "print(nama)"
   ]
  },
  {
   "cell_type": "code",
   "execution_count": 2,
   "metadata": {
    "colab": {
     "base_uri": "https://localhost:8080/"
    },
    "id": "2mCCvnz1SiAd",
    "outputId": "e051bafe-2555-4264-9f52-a44e3ffee9a2"
   },
   "outputs": [
    {
     "name": "stdout",
     "output_type": "stream",
     "text": [
      "5\n"
     ]
    }
   ],
   "source": [
    "angka = 5\r\n",
    "print(angka)"
   ]
  },
  {
   "cell_type": "code",
   "execution_count": 3,
   "metadata": {
    "colab": {
     "base_uri": "https://localhost:8080/"
    },
    "id": "fKKXYt1ESo81",
    "outputId": "ad904347-748f-4dd8-cfba-7b3ba43845b1"
   },
   "outputs": [
    {
     "name": "stdout",
     "output_type": "stream",
     "text": [
      "20\n"
     ]
    },
    {
     "data": {
      "text/plain": [
       "int"
      ]
     },
     "execution_count": 3,
     "metadata": {},
     "output_type": "execute_result"
    }
   ],
   "source": [
    "umur = 20\r\n",
    "print(umur)\r\n",
    "type(umur)"
   ]
  },
  {
   "cell_type": "code",
   "execution_count": 4,
   "metadata": {
    "colab": {
     "base_uri": "https://localhost:8080/"
    },
    "id": "N3VW-CQ4St1O",
    "outputId": "0dde9a2d-85b7-4288-9b1e-a724784aa475"
   },
   "outputs": [
    {
     "name": "stdout",
     "output_type": "stream",
     "text": [
      "dua puluh satu\n"
     ]
    },
    {
     "data": {
      "text/plain": [
       "str"
      ]
     },
     "execution_count": 4,
     "metadata": {},
     "output_type": "execute_result"
    }
   ],
   "source": [
    "umur = \"dua puluh satu\"\r\n",
    "print(umur)\r\n",
    "type(umur)"
   ]
  },
  {
   "cell_type": "code",
   "execution_count": 5,
   "metadata": {
    "colab": {
     "base_uri": "https://localhost:8080/"
    },
    "id": "DgXjldOzSz-K",
    "outputId": "c14f1bf5-0013-459e-9ccd-38a727b9b280"
   },
   "outputs": [
    {
     "name": "stdout",
     "output_type": "stream",
     "text": [
      "Budi Susanto\n"
     ]
    }
   ],
   "source": [
    "namaDepan = \"Budi\"\r\n",
    "namaBelakang = \"Susanto\"\r\n",
    "nama = namaDepan + \" \" + namaBelakang\r\n",
    "print(nama)"
   ]
  },
  {
   "cell_type": "code",
   "execution_count": 6,
   "metadata": {
    "colab": {
     "base_uri": "https://localhost:8080/"
    },
    "id": "LtKbZS5GS-4j",
    "outputId": "e29c066a-0ca1-4389-8619-d11cb81624a2"
   },
   "outputs": [
    {
     "name": "stdout",
     "output_type": "stream",
     "text": [
      "Biodata:\n",
      " Budi Susanto \n",
      " 22 \n",
      " berenang\n"
     ]
    }
   ],
   "source": [
    "umur = 22\r\n",
    "hobi = \"berenang\"\r\n",
    "print(\"Biodata:\\n\", nama, \"\\n\", umur, \"\\n\", hobi)"
   ]
  },
  {
   "cell_type": "code",
   "execution_count": 7,
   "metadata": {
    "id": "0mGWjzC7TkFt"
   },
   "outputs": [],
   "source": [
    "iniVariabel = 'Halo'\r\n",
    "ini_variabel = 'Halo'\r\n",
    "ini_juga_Variabel = 'Hai'\r\n",
    "_iniJugaVariabel = 'Hi'\r\n",
    "iniVariabel333 = 5"
   ]
  },
  {
   "cell_type": "code",
   "execution_count": 8,
   "metadata": {
    "colab": {
     "base_uri": "https://localhost:8080/"
    },
    "id": "8TXVS8q-VOo7",
    "outputId": "0ac37d38-d597-4afd-9b0e-ac1dbedfb3f1"
   },
   "outputs": [
    {
     "data": {
      "text/plain": [
       "50"
      ]
     },
     "execution_count": 8,
     "metadata": {},
     "output_type": "execute_result"
    }
   ],
   "source": [
    "panjang = 10\r\n",
    "lebar = 5\r\n",
    "luas = panjang * lebar\r\n",
    "luas"
   ]
  },
  {
   "cell_type": "code",
   "execution_count": 9,
   "metadata": {
    "colab": {
     "base_uri": "https://localhost:8080/"
    },
    "id": "N5JT9hYDV1gf",
    "outputId": "ec748fb0-43d6-4b00-b8ab-e55d82a4964d"
   },
   "outputs": [
    {
     "name": "stdout",
     "output_type": "stream",
     "text": [
      "nama :  Shift\n",
      "usia :  22\n",
      "status :  False\n"
     ]
    }
   ],
   "source": [
    "nama = 'Shift'\r\n",
    "usia = 22\r\n",
    "sudah_menikah = False\r\n",
    "print('nama : ', nama)\r\n",
    "print('usia : ', usia)\r\n",
    "print('status : ', sudah_menikah)"
   ]
  },
  {
   "cell_type": "code",
   "execution_count": 10,
   "metadata": {
    "colab": {
     "base_uri": "https://localhost:8080/",
     "height": 35
    },
    "id": "Nofn05aAWekT",
    "outputId": "b884aacf-1cec-4fd7-989c-5c8b296d2584"
   },
   "outputs": [
    {
     "data": {
      "text/plain": [
       "'halohalohalo'"
      ]
     },
     "execution_count": 10,
     "metadata": {},
     "output_type": "execute_result"
    }
   ],
   "source": [
    "\"halo\"*3"
   ]
  },
  {
   "cell_type": "code",
   "execution_count": 11,
   "metadata": {
    "colab": {
     "base_uri": "https://localhost:8080/"
    },
    "id": "WZq5kcDcWjIb",
    "outputId": "e62cb416-adab-43ba-a95d-7c67d802f2c4"
   },
   "outputs": [
    {
     "name": "stdout",
     "output_type": "stream",
     "text": [
      "a :  1\n",
      "b :  2\n",
      "c :  Mantap\n"
     ]
    }
   ],
   "source": [
    "a, b, c = 1, 2, \"Mantap\"\r\n",
    "print('a : ', a)\r\n",
    "print('b : ', b)\r\n",
    "print('c : ', c)"
   ]
  },
  {
   "cell_type": "code",
   "execution_count": 12,
   "metadata": {
    "colab": {
     "base_uri": "https://localhost:8080/"
    },
    "id": "7ETbO9rmW7Gn",
    "outputId": "f33a08b5-bed0-4098-cf21-c5b9c85bf52b"
   },
   "outputs": [
    {
     "name": "stdout",
     "output_type": "stream",
     "text": [
      "d :  10\n",
      "e :  10\n",
      "f :  10\n"
     ]
    }
   ],
   "source": [
    "d = e = f = 10\r\n",
    "print('d : ', d)\r\n",
    "print('e : ', e)\r\n",
    "print('f : ', f)"
   ]
  },
  {
   "cell_type": "code",
   "execution_count": 13,
   "metadata": {
    "colab": {
     "base_uri": "https://localhost:8080/"
    },
    "id": "ia2G9xSDXG2F",
    "outputId": "e72a952c-715c-490d-a3e3-fe362a2240de"
   },
   "outputs": [
    {
     "name": "stdout",
     "output_type": "stream",
     "text": [
      "5 * 10.5 = 52.5\n",
      "tipe data panjang:  <class 'int'>\n",
      "tipe data lebar:  <class 'float'>\n",
      "tipe data luas:  <class 'float'>\n"
     ]
    }
   ],
   "source": [
    "panjang = 5\r\n",
    "lebar = 10.5\r\n",
    "luas = panjang * lebar\r\n",
    "\r\n",
    "print(panjang , '*', lebar, '=', luas)\r\n",
    "print('tipe data panjang: ', type(panjang))\r\n",
    "print('tipe data lebar: ', type(lebar))\r\n",
    "print('tipe data luas: ', type(luas))"
   ]
  },
  {
   "cell_type": "code",
   "execution_count": 14,
   "metadata": {
    "colab": {
     "base_uri": "https://localhost:8080/"
    },
    "id": "ZwKVqOvHXjCd",
    "outputId": "3a5352ad-2de5-4a31-f357-21d2d510f9d5"
   },
   "outputs": [
    {
     "name": "stdout",
     "output_type": "stream",
     "text": [
      "5j + 10j = 15j\n",
      "tipe data a:  <class 'complex'>\n",
      "tipe data b:  <class 'complex'>\n",
      "tipe data c:  <class 'complex'>\n"
     ]
    }
   ],
   "source": [
    "a = 5j \r\n",
    "b = 10j \r\n",
    "c = a + b\r\n",
    "\r\n",
    "print(a, '+', b, '=', c)\r\n",
    "print('tipe data a: ', type(a))\r\n",
    "print('tipe data b: ', type(b))\r\n",
    "print('tipe data c: ', type(c))"
   ]
  },
  {
   "cell_type": "markdown",
   "metadata": {
    "id": "ds3CF2O5YZA6"
   },
   "source": [
    "# List"
   ]
  },
  {
   "cell_type": "code",
   "execution_count": 15,
   "metadata": {
    "id": "vDasbv_zXv26"
   },
   "outputs": [],
   "source": [
    "List = []"
   ]
  },
  {
   "cell_type": "code",
   "execution_count": 16,
   "metadata": {
    "colab": {
     "base_uri": "https://localhost:8080/"
    },
    "id": "Lbb3XQg3YdgY",
    "outputId": "dabd9a42-aeb0-4e35-8cf6-8eb2cb8e7c8e"
   },
   "outputs": [
    {
     "name": "stdout",
     "output_type": "stream",
     "text": [
      "\n",
      "List with the use of string : \n",
      "['Woman Dancing in Moonlight']\n"
     ]
    }
   ],
   "source": [
    "List = ['Woman Dancing in Moonlight']\r\n",
    "print('\\nList with the use of string : ')\r\n",
    "print(List)"
   ]
  },
  {
   "cell_type": "code",
   "execution_count": 17,
   "metadata": {
    "colab": {
     "base_uri": "https://localhost:8080/"
    },
    "id": "aD1zTrlFYpPk",
    "outputId": "fd8f4a4c-9d28-48d0-a48e-23460c13c412"
   },
   "outputs": [
    {
     "name": "stdout",
     "output_type": "stream",
     "text": [
      "Woman\n"
     ]
    }
   ],
   "source": [
    "List = ['Woman', 'Dancing', 'in', 'MoonLight']\r\n",
    "print(List[0])"
   ]
  },
  {
   "cell_type": "code",
   "execution_count": 18,
   "metadata": {
    "colab": {
     "base_uri": "https://localhost:8080/"
    },
    "id": "WbFDZBfpYzWQ",
    "outputId": "9fac0b5d-bc6d-4cd9-d893-e3e1444ab15c"
   },
   "outputs": [
    {
     "name": "stdout",
     "output_type": "stream",
     "text": [
      "MoonLight\n"
     ]
    }
   ],
   "source": [
    "print(List[-1])"
   ]
  },
  {
   "cell_type": "code",
   "execution_count": 19,
   "metadata": {
    "colab": {
     "base_uri": "https://localhost:8080/"
    },
    "id": "Iv7lMwlTY8yc",
    "outputId": "0e4c4994-5a91-4126-974d-70639d6fd53e"
   },
   "outputs": [
    {
     "name": "stdout",
     "output_type": "stream",
     "text": [
      "in\n"
     ]
    }
   ],
   "source": [
    "print(List[-2])"
   ]
  },
  {
   "cell_type": "code",
   "execution_count": 20,
   "metadata": {
    "colab": {
     "base_uri": "https://localhost:8080/"
    },
    "id": "J9ElcO48ZBca",
    "outputId": "0af3a77f-246a-4c8d-dedb-f23a9269fb65"
   },
   "outputs": [
    {
     "name": "stdout",
     "output_type": "stream",
     "text": [
      "[['Woman', 'Dancing'], ['in', 'Moonlight']]\n"
     ]
    }
   ],
   "source": [
    "List = [['Woman', 'Dancing'], ['in', 'Moonlight']]\r\n",
    "print(List)"
   ]
  },
  {
   "cell_type": "markdown",
   "metadata": {
    "id": "AQYPsk43ZWXM"
   },
   "source": [
    "# Tuple"
   ]
  },
  {
   "cell_type": "code",
   "execution_count": 21,
   "metadata": {
    "id": "Pn9NIGHUZO0L"
   },
   "outputs": [],
   "source": [
    "Tuple = ()"
   ]
  },
  {
   "cell_type": "code",
   "execution_count": 22,
   "metadata": {
    "colab": {
     "base_uri": "https://localhost:8080/"
    },
    "id": "T2GIbzHnZbJr",
    "outputId": "0cdcf4e6-cfde-4d1b-896c-efecf3ff2230"
   },
   "outputs": [
    {
     "name": "stdout",
     "output_type": "stream",
     "text": [
      "('Ini', 'Shift')\n"
     ]
    }
   ],
   "source": [
    "Tuple1 = ('Ini', 'Shift')\r\n",
    "print(Tuple1)"
   ]
  },
  {
   "cell_type": "code",
   "execution_count": 23,
   "metadata": {
    "colab": {
     "base_uri": "https://localhost:8080/"
    },
    "id": "_6i1XobZZf0w",
    "outputId": "cb8bb454-16f5-4910-9ff5-b9aa55cfddd4"
   },
   "outputs": [
    {
     "name": "stdout",
     "output_type": "stream",
     "text": [
      "(1, 2, 3, 4, 5)\n"
     ]
    }
   ],
   "source": [
    "list1 = [1, 2, 3, 4, 5]\r\n",
    "print(tuple(list1))"
   ]
  },
  {
   "cell_type": "code",
   "execution_count": 24,
   "metadata": {
    "colab": {
     "base_uri": "https://localhost:8080/"
    },
    "id": "ZeesUOnnZo_f",
    "outputId": "0f8ba333-7741-413c-ea35-fba5d51a988e"
   },
   "outputs": [
    {
     "name": "stdout",
     "output_type": "stream",
     "text": [
      "('S', 'h', 'i', 'f', 't')\n"
     ]
    }
   ],
   "source": [
    "Tuple1 = tuple('Shift')\r\n",
    "print(Tuple1)"
   ]
  },
  {
   "cell_type": "code",
   "execution_count": 25,
   "metadata": {
    "colab": {
     "base_uri": "https://localhost:8080/"
    },
    "id": "mMRiGlpMZ0mZ",
    "outputId": "fc5ce2fb-5e0d-40fa-bb8e-edb415ef5388"
   },
   "outputs": [
    {
     "name": "stdout",
     "output_type": "stream",
     "text": [
      "((0, 1, 2, 3), ('python', 'shift'))\n"
     ]
    }
   ],
   "source": [
    "Tuple1 = (0, 1, 2, 3)\r\n",
    "Tuple2 = ('python', 'shift')\r\n",
    "Tuple3 = (Tuple1, Tuple2)\r\n",
    "print(Tuple3)"
   ]
  },
  {
   "cell_type": "markdown",
   "metadata": {
    "id": "YKymjZbEaaBj"
   },
   "source": [
    "# Slicing "
   ]
  },
  {
   "cell_type": "markdown",
   "metadata": {
    "id": "02XUJMMwafno"
   },
   "source": [
    "![image.png](data:image/png;base64,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)"
   ]
  },
  {
   "cell_type": "code",
   "execution_count": 26,
   "metadata": {
    "colab": {
     "base_uri": "https://localhost:8080/"
    },
    "id": "ZSzBpn7kaUMK",
    "outputId": "6999195a-de64-45d7-c332-3a41e73b5b7e"
   },
   "outputs": [
    {
     "name": "stdout",
     "output_type": "stream",
     "text": [
      "['c', 'd', 'e', 'f', 'g']\n"
     ]
    }
   ],
   "source": [
    "L = ['a', 'b', 'c', 'd', 'e', 'f', 'g', 'h', 'i']\r\n",
    "print(L[2 : 7])"
   ]
  },
  {
   "cell_type": "code",
   "execution_count": 27,
   "metadata": {
    "colab": {
     "base_uri": "https://localhost:8080/"
    },
    "id": "PRjOVbEdarHX",
    "outputId": "f68577d2-5610-4a3e-aa17-0ea880443591"
   },
   "outputs": [
    {
     "name": "stdout",
     "output_type": "stream",
     "text": [
      "['c', 'd', 'e', 'f', 'g']\n"
     ]
    }
   ],
   "source": [
    "print(L[-7 : -2])"
   ]
  },
  {
   "cell_type": "code",
   "execution_count": 28,
   "metadata": {
    "colab": {
     "base_uri": "https://localhost:8080/"
    },
    "id": "4Fz2tC8-ay8f",
    "outputId": "e7c30714-06d4-4daa-87a6-0e1fc445fa26"
   },
   "outputs": [
    {
     "name": "stdout",
     "output_type": "stream",
     "text": [
      "['c', 'e', 'g']\n"
     ]
    }
   ],
   "source": [
    "print(L[2: 7 : 2])"
   ]
  },
  {
   "cell_type": "code",
   "execution_count": 29,
   "metadata": {
    "colab": {
     "base_uri": "https://localhost:8080/"
    },
    "id": "gbATFvxCa72l",
    "outputId": "3ce5167e-5df9-4598-c863-ad8bdf1572fd"
   },
   "outputs": [
    {
     "name": "stdout",
     "output_type": "stream",
     "text": [
      "['g', 'e', 'c']\n"
     ]
    }
   ],
   "source": [
    "print(L[6 : 1: -2])"
   ]
  },
  {
   "cell_type": "code",
   "execution_count": 30,
   "metadata": {
    "colab": {
     "base_uri": "https://localhost:8080/"
    },
    "id": "sPp2Ui0xbEBa",
    "outputId": "0b3fc3a7-1579-4ffd-8371-00baacf10992"
   },
   "outputs": [
    {
     "name": "stdout",
     "output_type": "stream",
     "text": [
      "['a', 'b', 'c']\n"
     ]
    }
   ],
   "source": [
    "print(L[:3])"
   ]
  },
  {
   "cell_type": "code",
   "execution_count": 31,
   "metadata": {
    "colab": {
     "base_uri": "https://localhost:8080/"
    },
    "id": "rTjsLl66bLS5",
    "outputId": "373c9bcc-9257-4561-9cdd-5cffcb863849"
   },
   "outputs": [
    {
     "name": "stdout",
     "output_type": "stream",
     "text": [
      "['g', 'h', 'i']\n"
     ]
    }
   ],
   "source": [
    "L = ['a', 'b', 'c', 'd', 'e', 'f', 'g', 'h', 'i']\r\n",
    "print(L[6:])"
   ]
  },
  {
   "cell_type": "code",
   "execution_count": 32,
   "metadata": {
    "colab": {
     "base_uri": "https://localhost:8080/"
    },
    "id": "a2swARJDbQ_q",
    "outputId": "7038177a-8e14-4e23-915e-eccaf031dc33"
   },
   "outputs": [
    {
     "name": "stdout",
     "output_type": "stream",
     "text": [
      "['i', 'h', 'g', 'f', 'e', 'd', 'c', 'b', 'a']\n"
     ]
    }
   ],
   "source": [
    "print(L[::-1])"
   ]
  },
  {
   "cell_type": "code",
   "execution_count": 33,
   "metadata": {
    "colab": {
     "base_uri": "https://localhost:8080/"
    },
    "id": "XiSjJkYDbT2B",
    "outputId": "4e856089-d0b2-416a-f301-0ed33470a44d"
   },
   "outputs": [
    {
     "name": "stdout",
     "output_type": "stream",
     "text": [
      "['a', 1, 2, 3, 'e']\n"
     ]
    }
   ],
   "source": [
    "L = ['a', 'b', 'c', 'd', 'e']\r\n",
    "L[1:4] = [1, 2, 3]\r\n",
    "print(L)"
   ]
  },
  {
   "cell_type": "code",
   "execution_count": 34,
   "metadata": {
    "colab": {
     "base_uri": "https://localhost:8080/"
    },
    "id": "gI-RnSHDbgoM",
    "outputId": "1d165b53-1dc6-4c85-85e0-f84d3749ce2d"
   },
   "outputs": [
    {
     "name": "stdout",
     "output_type": "stream",
     "text": [
      "['a', 1, 2, 3, 2, 3, 'e']\n"
     ]
    }
   ],
   "source": [
    "L[1:2] = [1, 2, 3]\r\n",
    "print(L)"
   ]
  },
  {
   "cell_type": "code",
   "execution_count": 35,
   "metadata": {
    "colab": {
     "base_uri": "https://localhost:8080/"
    },
    "id": "skG67JD5bxDU",
    "outputId": "897ccab2-0981-4fc1-9904-7428d0689854"
   },
   "outputs": [
    {
     "name": "stdout",
     "output_type": "stream",
     "text": [
      "['a']\n"
     ]
    }
   ],
   "source": [
    "L = ['a', 'b', 'c', 'd', 'e']\r\n",
    "L[1:5] = []\r\n",
    "print(L)"
   ]
  },
  {
   "cell_type": "markdown",
   "metadata": {
    "id": "hHGV6ZqLcMF7"
   },
   "source": [
    "# Manipulate List"
   ]
  },
  {
   "cell_type": "code",
   "execution_count": 36,
   "metadata": {
    "colab": {
     "base_uri": "https://localhost:8080/"
    },
    "id": "BZ3ZYVCEcHlH",
    "outputId": "60d72e83-992f-4357-dcfa-9a4ccff6bcac"
   },
   "outputs": [
    {
     "data": {
      "text/plain": [
       "3"
      ]
     },
     "execution_count": 36,
     "metadata": {},
     "output_type": "execute_result"
    }
   ],
   "source": [
    "random_list = [4, 1, 5, 4, 10, 4]\r\n",
    "random_list.count(4)"
   ]
  },
  {
   "cell_type": "markdown",
   "metadata": {
    "id": "3JXCaH9WcYjW"
   },
   "source": [
    "![image.png](data:image/png;base64,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)"
   ]
  },
  {
   "cell_type": "code",
   "execution_count": 37,
   "metadata": {
    "colab": {
     "base_uri": "https://localhost:8080/"
    },
    "id": "LvCQWsIOcUum",
    "outputId": "959a722f-9344-419e-ae39-3478198ff23e"
   },
   "outputs": [
    {
     "data": {
      "text/plain": [
       "0"
      ]
     },
     "execution_count": 37,
     "metadata": {},
     "output_type": "execute_result"
    }
   ],
   "source": [
    "random_list.index(4)"
   ]
  },
  {
   "cell_type": "code",
   "execution_count": 38,
   "metadata": {
    "colab": {
     "base_uri": "https://localhost:8080/"
    },
    "id": "umiO61MMcbRE",
    "outputId": "d1cf37c2-1032-44c5-9ee1-5dfaca92db34"
   },
   "outputs": [
    {
     "data": {
      "text/plain": [
       "5"
      ]
     },
     "execution_count": 38,
     "metadata": {},
     "output_type": "execute_result"
    }
   ],
   "source": [
    "#random_list.index(value, [start, stop])\r\n",
    "random_list.index(4, 5, 6)"
   ]
  },
  {
   "cell_type": "code",
   "execution_count": 39,
   "metadata": {
    "colab": {
     "base_uri": "https://localhost:8080/"
    },
    "id": "z4u6pNSwcf1I",
    "outputId": "e3710f17-9a3f-4d45-e991-841d0d27acf6"
   },
   "outputs": [
    {
     "name": "stdout",
     "output_type": "stream",
     "text": [
      "[2, 3, 4, 7, 8, 10, 11]\n"
     ]
    }
   ],
   "source": [
    "x = [3, 7, 2, 11, 8, 10, 4]\r\n",
    "x.sort()\r\n",
    "print(x)"
   ]
  },
  {
   "cell_type": "code",
   "execution_count": 40,
   "metadata": {
    "colab": {
     "base_uri": "https://localhost:8080/"
    },
    "id": "QwXgdUlJcx9A",
    "outputId": "a58c27d7-338a-4a56-e243-866ab60451c5"
   },
   "outputs": [
    {
     "name": "stdout",
     "output_type": "stream",
     "text": [
      "[11, 10, 8, 7, 4, 3, 2]\n"
     ]
    }
   ],
   "source": [
    "x.sort(reverse = True)\r\n",
    "print(x)"
   ]
  },
  {
   "cell_type": "code",
   "execution_count": 41,
   "metadata": {
    "colab": {
     "base_uri": "https://localhost:8080/"
    },
    "id": "aMQy9klWc3oj",
    "outputId": "62f37b9b-831f-4ff4-ab0f-8cb0af9f75c2"
   },
   "outputs": [
    {
     "name": "stdout",
     "output_type": "stream",
     "text": [
      "[11, 10, 8, 7, 4, 3, 2, 3]\n"
     ]
    }
   ],
   "source": [
    "x.append(3)\r\n",
    "print(x)"
   ]
  },
  {
   "cell_type": "code",
   "execution_count": 42,
   "metadata": {
    "id": "H8QchWIIc-fE"
   },
   "outputs": [],
   "source": [
    "x.append(5)"
   ]
  },
  {
   "cell_type": "code",
   "execution_count": 43,
   "metadata": {
    "colab": {
     "base_uri": "https://localhost:8080/"
    },
    "id": "F7jZzNlBdHRy",
    "outputId": "7bffb780-d74e-4221-a454-b12d6e3049ba"
   },
   "outputs": [
    {
     "name": "stdout",
     "output_type": "stream",
     "text": [
      "[11, 10, 8, 7, 4, 3, 2, 3, 5]\n"
     ]
    }
   ],
   "source": [
    "print(x)"
   ]
  },
  {
   "cell_type": "code",
   "execution_count": 44,
   "metadata": {
    "id": "AvpHcnUGdIW7"
   },
   "outputs": [],
   "source": [
    "x.insert(4, [4, 5])"
   ]
  },
  {
   "cell_type": "code",
   "execution_count": 45,
   "metadata": {
    "colab": {
     "base_uri": "https://localhost:8080/"
    },
    "id": "v9QCZ7kEdMDM",
    "outputId": "533aa1ac-b323-45d2-f27e-0c80658f161a"
   },
   "outputs": [
    {
     "name": "stdout",
     "output_type": "stream",
     "text": [
      "[11, 10, 8, 7, [4, 5], 4, 3, 2, 3, 5]\n"
     ]
    }
   ],
   "source": [
    "print(x)"
   ]
  },
  {
   "cell_type": "code",
   "execution_count": 46,
   "metadata": {
    "colab": {
     "base_uri": "https://localhost:8080/"
    },
    "id": "AAu6iCYudNMU",
    "outputId": "faf8987c-7441-4f82-d6d8-d728c28bd2cb"
   },
   "outputs": [
    {
     "name": "stdout",
     "output_type": "stream",
     "text": [
      "['a']\n"
     ]
    }
   ],
   "source": [
    "L = ['a', 'b', 'c', 'd', 'e']\r\n",
    "del L[1:5]\r\n",
    "print(L)"
   ]
  },
  {
   "cell_type": "code",
   "execution_count": 47,
   "metadata": {
    "id": "feya05G7dZx6"
   },
   "outputs": [],
   "source": [
    "x.remove(10)"
   ]
  },
  {
   "cell_type": "code",
   "execution_count": 48,
   "metadata": {
    "colab": {
     "base_uri": "https://localhost:8080/"
    },
    "id": "QKsU9hNrde7f",
    "outputId": "22364d94-1bdd-4d14-fa76-4e954e47f8a7"
   },
   "outputs": [
    {
     "name": "stdout",
     "output_type": "stream",
     "text": [
      "[11, 8, 7, [4, 5], 4, 3, 2, 3, 5]\n"
     ]
    }
   ],
   "source": [
    "print(x)"
   ]
  },
  {
   "cell_type": "code",
   "execution_count": 49,
   "metadata": {
    "colab": {
     "base_uri": "https://localhost:8080/"
    },
    "id": "ucNnQGuDdgK-",
    "outputId": "1fd57393-2433-45a4-d191-c8fa9710ca8e"
   },
   "outputs": [
    {
     "data": {
      "text/plain": [
       "[4, 5]"
      ]
     },
     "execution_count": 49,
     "metadata": {},
     "output_type": "execute_result"
    }
   ],
   "source": [
    "x.pop(3)"
   ]
  },
  {
   "cell_type": "code",
   "execution_count": 50,
   "metadata": {
    "colab": {
     "base_uri": "https://localhost:8080/"
    },
    "id": "TTLHSk2Tdmlq",
    "outputId": "638f8ede-25c9-42a2-b733-356ac4ccbfae"
   },
   "outputs": [
    {
     "name": "stdout",
     "output_type": "stream",
     "text": [
      "[11, 8, 7, 4, 3, 2, 3, 5]\n"
     ]
    }
   ],
   "source": [
    "print(x)"
   ]
  },
  {
   "cell_type": "code",
   "execution_count": 52,
   "metadata": {
    "id": "QpvzE6COdpXm"
   },
   "outputs": [],
   "source": [
    "x.extend([4, 5])"
   ]
  },
  {
   "cell_type": "code",
   "execution_count": 53,
   "metadata": {
    "colab": {
     "base_uri": "https://localhost:8080/"
    },
    "id": "GdwEvdLIduon",
    "outputId": "e65caf52-5f25-4a24-9aa6-a9e113feb16e"
   },
   "outputs": [
    {
     "name": "stdout",
     "output_type": "stream",
     "text": [
      "[11, 8, 7, 4, 3, 2, 3, 5, 4, 5, 4, 5]\n"
     ]
    }
   ],
   "source": [
    "print(x)"
   ]
  },
  {
   "cell_type": "markdown",
   "metadata": {
    "id": "4sM2KK6fdzdD"
   },
   "source": [
    "![image.png](data:image/png;base64,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)"
   ]
  },
  {
   "cell_type": "code",
   "execution_count": 54,
   "metadata": {
    "colab": {
     "base_uri": "https://localhost:8080/"
    },
    "id": "2pv_T9lCd2Nc",
    "outputId": "c6ed783b-e7da-4cff-8d0b-b9b394cfa0f1"
   },
   "outputs": [
    {
     "name": "stdout",
     "output_type": "stream",
     "text": [
      "nama saya tasya \n"
     ]
    }
   ],
   "source": [
    "print('nama saya', end = ' ')\r\n",
    "print('tasya ')"
   ]
  },
  {
   "cell_type": "code",
   "execution_count": 55,
   "metadata": {
    "colab": {
     "base_uri": "https://localhost:8080/"
    },
    "id": "4K9c1CiFfff5",
    "outputId": "910579cc-c16b-4f58-8e2e-ccc90e2c96c1"
   },
   "outputs": [
    {
     "name": "stdout",
     "output_type": "stream",
     "text": [
      "x 18\n"
     ]
    }
   ],
   "source": [
    "s = \"10010\"\r\n",
    "c = int(s, 2)\r\n",
    "print('x' , end=' ')\r\n",
    "print(c)"
   ]
  },
  {
   "cell_type": "code",
   "execution_count": null,
   "metadata": {
    "id": "mDAD8yNpfnIx"
   },
   "outputs": [],
   "source": []
  }
 ],
 "metadata": {
  "colab": {
   "name": "Python Basic.ipynb",
   "provenance": []
  },
  "kernelspec": {
   "display_name": "Python 3",
   "language": "python",
   "name": "python3"
  },
  "language_info": {
   "codemirror_mode": {
    "name": "ipython",
    "version": 3
   },
   "file_extension": ".py",
   "mimetype": "text/x-python",
   "name": "python",
   "nbconvert_exporter": "python",
   "pygments_lexer": "ipython3",
   "version": "3.8.5"
  }
 },
 "nbformat": 4,
 "nbformat_minor": 4
}
