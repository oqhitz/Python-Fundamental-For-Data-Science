{
 "cells": [
  {
   "cell_type": "code",
   "execution_count": 5,
   "metadata": {},
   "outputs": [
    {
     "name": "stdout",
     "output_type": "stream",
     "text": [
      "i like pop\n",
      "i like rock\n",
      "i like jazz\n"
     ]
    }
   ],
   "source": [
    "genre = ['pop','rock','jazz']\n",
    "for i in range(len(genre)):\n",
    "    print('i like', genre[i])"
   ]
  },
  {
   "cell_type": "code",
   "execution_count": 13,
   "metadata": {},
   "outputs": [
    {
     "name": "stdout",
     "output_type": "stream",
     "text": [
      "0\n",
      "1\n",
      "2\n",
      "3\n",
      "4\n",
      "5\n",
      "6\n",
      "7\n",
      "8\n",
      "9\n",
      "10\n",
      "11\n"
     ]
    }
   ],
   "source": [
    "a = 11\n",
    "i = 0\n",
    "sum = 0\n",
    "while i <= a:\n",
    "    print(i) \n",
    "    i += 1"
   ]
  },
  {
   "cell_type": "code",
   "execution_count": 10,
   "metadata": {},
   "outputs": [
    {
     "name": "stdout",
     "output_type": "stream",
     "text": [
      "1\n",
      "2\n",
      "3\n",
      "4\n",
      "5\n",
      "6\n",
      "7\n",
      "8\n",
      "9\n"
     ]
    }
   ],
   "source": [
    "for x in range(1,10):\n",
    "    print(x)\n",
    "    "
   ]
  },
  {
   "cell_type": "code",
   "execution_count": 34,
   "metadata": {},
   "outputs": [
    {
     "name": "stdout",
     "output_type": "stream",
     "text": [
      "26\n",
      "26\n"
     ]
    }
   ],
   "source": [
    "a = [1,2,3,-4,5,-6,7,8,-9]\n",
    "sum = 0\n",
    "for i in a:\n",
    "    if i < 0:\n",
    "        continue\n",
    "    sum += i\n",
    "print(sum)\n",
    "\n",
    "b = [1,2,3,-4,5,-6,7,8,-9]\n",
    "total = 0\n",
    "for i in b:\n",
    "    if i > 0:\n",
    "        total += i\n",
    "print(total)"
   ]
  },
  {
   "cell_type": "code",
   "execution_count": 35,
   "metadata": {},
   "outputs": [
    {
     "name": "stdout",
     "output_type": "stream",
     "text": [
      "d1\n",
      "d2\n",
      "d3\n",
      "Senin\n",
      "Selasa\n",
      "Rabu\n",
      "d1\n",
      "d2\n",
      "d3\n",
      "Senin\n",
      "Selasa\n",
      "Rabu\n",
      "d1 adalah hari Senin\n",
      "d2 adalah hari Selasa\n",
      "d3 adalah hari Rabu\n"
     ]
    }
   ],
   "source": [
    "ex_dict = {\n",
    "    'd1': 'Senin',\n",
    "    'd2': 'Selasa',\n",
    "    'd3': 'Rabu'\n",
    "}\n",
    "for x in ex_dict:\n",
    "    print(x)\n",
    "for x in ex_dict:\n",
    "    print (ex_dict[x])\n",
    "for x in ex_dict.keys():\n",
    "    print (x)\n",
    "for x in ex_dict.values():\n",
    "    print(x)\n",
    "for x,y in ex_dict.items():\n",
    "    print(x + ' adalah hari ' + y)"
   ]
  },
  {
   "cell_type": "code",
   "execution_count": 40,
   "metadata": {},
   "outputs": [
    {
     "name": "stdout",
     "output_type": "stream",
     "text": [
      "['h', 'u', 'm', 'a', 'n']\n"
     ]
    }
   ],
   "source": [
    "huruf = [letter for letter in 'human']\n",
    "print(huruf)"
   ]
  }
 ],
 "metadata": {
  "kernelspec": {
   "display_name": "Python 3",
   "language": "python",
   "name": "python3"
  },
  "language_info": {
   "codemirror_mode": {
    "name": "ipython",
    "version": 3
   },
   "file_extension": ".py",
   "mimetype": "text/x-python",
   "name": "python",
   "nbconvert_exporter": "python",
   "pygments_lexer": "ipython3",
   "version": "3.8.5"
  }
 },
 "nbformat": 4,
 "nbformat_minor": 4
}
